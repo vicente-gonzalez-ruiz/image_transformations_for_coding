{
 "cells": [
  {
   "cell_type": "markdown",
   "metadata": {},
   "source": [
    "# Haar 2D basis functions"
   ]
  },
  {
   "cell_type": "code",
   "execution_count": 40,
   "metadata": {},
   "outputs": [
    {
     "data": {
      "image/png": "[encoded data removed]",
      "text/plain": [
       "<matplotlib.figure.Figure at 0x7fa184f5d908>"
      ]
     },
     "metadata": {},
     "output_type": "display_data"
    }
   ],
   "source": [
    "# pip install pywavelets\n",
    "import pywt\n",
    "from matplotlib import pyplot as plt\n",
    "%matplotlib inline\n",
    "import numpy as np\n",
    "\n",
    "fig = plt.figure(figsize=(16, 16))\n",
    "wavelet_= 'haar'\n",
    "\n",
    "for i in range(4):\n",
    "    for j in range(4):\n",
    "\n",
    "        pixels = np.zeros((32, 32))\n",
    "        # http://pywavelets.readthedocs.io/en/latest/ref/2d-dwt-and-idwt.html#d-multilevel-decomposition-using-wavedec2\n",
    "        #coeffs = pywt.wavedec2(pixels, wavelet=wavelet_, mode='per', level=3)\n",
    "        coeffs = pywt.wavedec2(pixels, wavelet=wavelet_, level=3)\n",
    "        coeffs[0][i, j] = 1.0 # Subband LL4\n",
    "        # http://pywavelets.readthedocs.io/en/latest/ref/2d-dwt-and-idwt.html#d-multilevel-reconstruction-using-waverec2\n",
    "        recons = pywt.waverec2(coeffs, wavelet=wavelet_)\n",
    "        max = recons.max()\n",
    "        min = recons.min()\n",
    "        if(max!=min):\n",
    "            recons = (recons-min)/(max-min)*255\n",
    "            \n",
    "        plt.subplot(8, 8, 8*i+j+1)\n",
    "        plt.imshow(recons, cmap=plt.cm.gray)\n",
    "        plt.grid(False);\n",
    "        plt.xticks([]);\n",
    "        plt.yticks([]);"
   ]
  },
  {
   "cell_type": "code",
   "execution_count": 41,
   "metadata": {},
   "outputs": [
    {
     "data": {
      "image/png": "[encoded data removed]",
      "text/plain": [
       "<matplotlib.figure.Figure at 0x7fa1778a2048>"
      ]
     },
     "metadata": {},
     "output_type": "display_data"
    }
   ],
   "source": [
    "# pip install pywavelets\n",
    "import pywt\n",
    "from matplotlib import pyplot as plt\n",
    "%matplotlib inline\n",
    "import numpy as np\n",
    "\n",
    "fig = plt.figure(figsize=(16, 16))\n",
    "wavelet_= 'haar'\n",
    "\n",
    "for i in range(4):\n",
    "    for j in range(4):\n",
    "\n",
    "        pixels = np.zeros((32, 32))\n",
    "        coeffs = pywt.wavedec2(pixels, wavelet=wavelet_, level=3)\n",
    "        coeffs[1][0][i, j] = 1.0 # Subband LH4\n",
    "        recons = pywt.waverec2(coeffs, wavelet=wavelet_)\n",
    "        max = recons.max()\n",
    "        min = recons.min()\n",
    "        if(max!=min):\n",
    "            recons = (recons-min)/(max-min)*255\n",
    "            \n",
    "        plt.subplot(8, 8, 8*i+j+1)\n",
    "        plt.imshow(recons, cmap=plt.cm.gray)\n",
    "        plt.grid(False);\n",
    "        plt.xticks([]);\n",
    "        plt.yticks([]);"
   ]
  },
  {
   "cell_type": "code",
   "execution_count": 42,
   "metadata": {},
   "outputs": [
    {
     "data": {
      "image/png": "[encoded data removed]",
      "text/plain": [
       "<matplotlib.figure.Figure at 0x7fa177895c50>"
      ]
     },
     "metadata": {},
     "output_type": "display_data"
    }
   ],
   "source": [
    "import pywt # pip install pywavelets\n",
    "from matplotlib import pyplot as plt\n",
    "%matplotlib inline\n",
    "import numpy as np\n",
    "\n",
    "fig = plt.figure(figsize=(16, 16))\n",
    "wavelet_= 'haar'\n",
    "\n",
    "for i in range(4):\n",
    "    for j in range(4):\n",
    "\n",
    "        pixels = np.zeros((32, 32))\n",
    "        coeffs = pywt.wavedec2(pixels, wavelet=wavelet_, level=3)\n",
    "        coeffs[1][1][i, j] = 1.0 # Subband HL4\n",
    "        recons = pywt.waverec2(coeffs, wavelet=wavelet_)\n",
    "        max = recons.max()\n",
    "        min = recons.min()\n",
    "        if(max!=min):\n",
    "            recons = (recons-min)/(max-min)*255\n",
    "\n",
    "        plt.subplot(8, 8, 8*i+j+1)\n",
    "        plt.imshow(recons, cmap=plt.cm.gray)\n",
    "        plt.grid(False);\n",
    "        plt.xticks([]);\n",
    "        plt.yticks([]);"
   ]
  },
  {
   "cell_type": "code",
   "execution_count": 43,
   "metadata": {},
   "outputs": [
    {
     "data": {
      "image/png": "[encoded data removed]",
      "text/plain": [
       "<matplotlib.figure.Figure at 0x7fa1a0073518>"
      ]
     },
     "metadata": {},
     "output_type": "display_data"
    }
   ],
   "source": [
    "import pywt # pip install pywavelets\n",
    "from matplotlib import pyplot as plt\n",
    "%matplotlib inline\n",
    "import numpy as np\n",
    "\n",
    "fig = plt.figure(figsize=(16, 16))\n",
    "wavelet_= 'haar'\n",
    "\n",
    "for i in range(4):\n",
    "    for j in range(4):\n",
    "\n",
    "        pixels = np.zeros((32, 32))\n",
    "        coeffs = pywt.wavedec2(pixels, wavelet=wavelet_, level=3)\n",
    "        coeffs[1][2][i, j] = 1.0 # Subband HH4\n",
    "        recons = pywt.waverec2(coeffs, wavelet=wavelet_)\n",
    "        max = recons.max()\n",
    "        min = recons.min()\n",
    "        if(max!=min):\n",
    "            recons = (recons-min)/(max-min)*255\n",
    "            \n",
    "        plt.subplot(8, 8, 8*i+j+1)\n",
    "        plt.imshow(recons, cmap=plt.cm.gray)\n",
    "        plt.grid(False);\n",
    "        plt.xticks([]);\n",
    "        plt.yticks([]);"
   ]
  },
  {
   "cell_type": "code",
   "execution_count": 44,
   "metadata": {},
   "outputs": [
    {
     "data": {
      "image/png": "[encoded data removed]",
      "text/plain": [
       "<matplotlib.figure.Figure at 0x7fa177d6d438>"
      ]
     },
     "metadata": {},
     "output_type": "display_data"
    }
   ],
   "source": [
    "import pywt # pip install pywavelets\n",
    "from matplotlib import pyplot as plt\n",
    "%matplotlib inline\n",
    "import numpy as np\n",
    "\n",
    "fig = plt.figure(figsize=(16, 16))\n",
    "wavelet_= 'haar'\n",
    "\n",
    "for i in range(8):\n",
    "    for j in range(8):\n",
    "\n",
    "        pixels = np.zeros((32, 32))\n",
    "        coeffs = pywt.wavedec2(pixels, wavelet=wavelet_, level=3)\n",
    "        coeffs[2][0][i, j] = 1.0 # Subband HL3\n",
    "        recons = pywt.waverec2(coeffs, wavelet=wavelet_)\n",
    "        max = recons.max()\n",
    "        min = recons.min()\n",
    "        if(max!=min):\n",
    "            recons = (recons-min)/(max-min)*255\n",
    "            \n",
    "        plt.subplot(16, 16, 16*i+j+1)\n",
    "        plt.imshow(recons, cmap=plt.cm.gray)\n",
    "        plt.grid(False);\n",
    "        plt.xticks([]);\n",
    "        plt.yticks([]);"
   ]
  }
 ],
 "metadata": {
  "kernelspec": {
   "display_name": "Python 3",
   "language": "python",
   "name": "python3"
  },
  "language_info": {
   "codemirror_mode": {
    "name": "ipython",
    "version": 3
   },
   "file_extension": ".py",
   "mimetype": "text/x-python",
   "name": "python",
   "nbconvert_exporter": "python",
   "pygments_lexer": "ipython3",
   "version": "3.6.4"
  }
 },
 "nbformat": 4,
 "nbformat_minor": 2
}
