{
 "cells": [
  {
   "cell_type": "markdown",
   "metadata": {},
   "source": [
    "# Transform Audio Coding\n",
    "\n",
    "* Usually lossy.\n",
    "* If lossless, base (lossy) layer (a thumbnail sketch, potentially progressive) with the output of the transform encoder + enhacement (lossless) layer with the residue.\n",
    "* Usually orthonormal transform."
   ]
  },
  {
   "cell_type": "code",
   "execution_count": null,
   "metadata": {},
   "outputs": [],
   "source": [
    "The use of the cosine transform is motivated by the well known \n",
    "energy compactation energy, which permits a good reconstruction\n",
    "from only a few quantized values of the cosine transform"
   ]
  }
 ],
 "metadata": {
  "kernelspec": {
   "display_name": "Python 3",
   "language": "python",
   "name": "python3"
  },
  "language_info": {
   "codemirror_mode": {
    "name": "ipython",
    "version": 3
   },
   "file_extension": ".py",
   "mimetype": "text/x-python",
   "name": "python",
   "nbconvert_exporter": "python",
   "pygments_lexer": "ipython3",
   "version": "3.6.3"
  }
 },
 "nbformat": 4,
 "nbformat_minor": 2
}
