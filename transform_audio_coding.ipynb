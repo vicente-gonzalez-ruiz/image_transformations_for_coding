{
 "cells": [
  {
   "cell_type": "markdown",
   "metadata": {},
   "source": [
    "# Transform Coding"
   ]
  },
  {
   "cell_type": "markdown",
   "metadata": {},
   "source": [
    "* Signals can be represented at least in two different domains: the signal domain (for example, time in the case of sound of space in the case of image) and the frequency domain.\n",
    "* Transform coding is based on the idea that, in the frequency domain, most of the energy of the signal can be compacted in a small number of transform coefficients, which can be interesting for increasing the coding efficiency."
   ]
  },
  {
   "cell_type": "markdown",
   "metadata": {},
   "source": [
    "## Encoder\n",
    "\n",
    "1. Split $s$ into blocks of $B$ samples.\n",
    "2. Transform each block.\n",
    "3. Performs a bit-allocation procedure over the coefficientes.\n",
    "4. Encode the quantized coefficients."
   ]
  },
  {
   "cell_type": "markdown",
   "metadata": {},
   "source": [
    "## Decoder\n",
    "\n",
    "1. Decode the coefficients of each block\n",
    "2. \"Dequantize\" the coefficients of each block.\n",
    "3. Inverse transform each block."
   ]
  },
  {
   "cell_type": "markdown",
   "metadata": {},
   "source": [
    "## Splitting\n",
    "\n",
    "1. $$s=\\{s[n]\\}_{n=0}^{N-1}$$ is divided into blocks of $B$ samples."
   ]
  },
  {
   "cell_type": "markdown",
   "metadata": {},
   "source": [
    "* It can be shown that we can get the maximum amount\n",
    "of compaction if we use a transform that decorrelates the input sequence; that is, the sample-\n",
    "to-sample correlation of the transformed sequence is zero. \n",
    "\n",
    "* Usually lossy.\n",
    "* If lossless, base (lossy) layer (a thumbnail sketch, potentially progressive) with the output of the transform encoder + enhacement (lossless) layer with the residue.\n",
    "* Usually orthonormal transform.\n",
    "\n",
    "* Most audio compression algorithms typically segment\n",
    "the input signal into blocks of 2ms up to 50ms\n",
    "duration. A time-frequency analysis then decomposes\n",
    "each analysis block in the encoder. This\n",
    "transformation or subband filtering scheme compacts\n",
    "the energy into a few transform coefficients and\n",
    "therefore de-correlates successive samples. These\n",
    "coefficients, subband samples or parameters are\n",
    "quantized and encoded according to perceptual\n",
    "criteria. Depending on the system objectives, the\n",
    "time-frequency analysis section might contain:\n",
    "  + Unitary transform (MDCT, FFT)\n",
    "  + Polyphase filterbank with uniform bandpass filters\n",
    "  + Time-varying, critically sampled bank of nonuniform bandpass filters\n",
    "  + Hybrid transform/filterbank scheme\n",
    "  + Harmonic/sinusoidal signal analyzer\n",
    "  + Source system analysis (LPC)\n",
    "  \n",
    "\n",
    " \n",
    "* The time-frequency analysis approach always\n",
    "involves a fundamental tradeoff between time and\n",
    "frequency resolution requirements. The choice of the\n",
    "time-frequency analysis method additionally\n",
    "determines the amount of coding delay introduced, a \n",
    "parameter which may become important in duplex\n",
    "broadcast and live-events applications.\n",
    "\n",
    "http://www.atc-labs.com/acepages/crcchapter.pdf"
   ]
  },
  {
   "cell_type": "code",
   "execution_count": null,
   "metadata": {},
   "outputs": [],
   "source": [
    "The use of the cosine transform is motivated by the well known \n",
    "energy compactation energy, which permits a good reconstruction\n",
    "from only a few quantized values of the cosine transform"
   ]
  }
 ],
 "metadata": {
  "kernelspec": {
   "display_name": "Python 3",
   "language": "python",
   "name": "python3"
  },
  "language_info": {
   "codemirror_mode": {
    "name": "ipython",
    "version": 3
   },
   "file_extension": ".py",
   "mimetype": "text/x-python",
   "name": "python",
   "nbconvert_exporter": "python",
   "pygments_lexer": "ipython3",
   "version": "3.6.3"
  }
 },
 "nbformat": 4,
 "nbformat_minor": 2
}
