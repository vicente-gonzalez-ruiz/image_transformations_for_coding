{
 "cells": [
  {
   "cell_type": "markdown",
   "metadata": {},
   "source": [
    "# Transform Coding"
   ]
  },
  {
   "cell_type": "markdown",
   "metadata": {},
   "source": [
    "* Signals can be represented at least in two different domains: the signal domain (for example, time in the case of sound of space in the case of image) and the frequency domain.\n",
    "* Transform coding is based on the idea that, in the frequency domain, most of the energy of the signal can be compacted in a small number of transform coefficients.\n",
    "* This property can be interesting for increasing the coding efficiency."
   ]
  },
  {
   "cell_type": "markdown",
   "metadata": {},
   "source": [
    "## Encoder\n",
    "\n",
    "1. Split $s$ into blocks of $B$ samples.\n",
    "2. Transform each block.\n",
    "3. Performs a bit-allocation procedure over the coefficientes.\n",
    "4. Lossless encode the quantized coefficients."
   ]
  },
  {
   "cell_type": "markdown",
   "metadata": {},
   "source": [
    "## Decoder\n",
    "\n",
    "1. Decode the coefficients of each block.\n",
    "2. \"Dequantize\" the coefficients of each block.\n",
    "3. Inverse-transform each block."
   ]
  },
  {
   "cell_type": "markdown",
   "metadata": {},
   "source": [
    "## Splitting\n",
    "\n",
    "1. Divide $s=\\{s[n]\\}_{n=0}^{N-1}$ into blocks of $B$ samples."
   ]
  },
  {
   "cell_type": "markdown",
   "metadata": {},
   "source": [
    "## Transform\n",
    "\n",
    "* In the forward transform the samples of the block are correlated with (the block is compared to) a set of basis functions\n",
    "\n",
    "  \\begin{equation}\n",
    "    \\{S[k]\\}_{k=0}^{B-1} = \\sum_{n=0}^{B-1}a_{k,n}s[n].\n",
    "    \\tag{forward_transform}\n",
    "  \\end{equation}\n",
    "\n",
    "* The backward (inverse) transform restores the original samples\n",
    "\n",
    "  \\begin{equation}\n",
    "    \\{s[n]\\}_{n=0}^{B-1} = \\sum_{k=0}^{B-1}b_{n,k}S[k].\n",
    "    \\tag{inverse_transform}\n",
    "  \\end{equation}\n",
    "  \n",
    "* These equations can be written in matrix form as\n",
    "  \n",
    "  \\begin{equation}\n",
    "    S=As\n",
    "    \\tag{forward_transform_matrix_form}\n",
    "  \\end{equation}\n",
    "  \n",
    "  \\begin{equation}\n",
    "    s=BS,\n",
    "    \\tag{inverse_transform_matrix_form}\n",
    "  \\end{equation}\n",
    "  \n",
    "  where $A$ and $B$ are matrices, being\n",
    "  \n",
    "  \\begin{equation}\n",
    "    \\begin{array}{l}\n",
    "    [A]_{k,n} = a_{k,n} \\\\\n",
    "    [B]_{n,k} = b_{n,k}.\n",
    "    \\end{array}\n",
    "  \\end{equation}\n",
    "  \n",
    "* In transform coding, $A$ and $B$ must be inverses of each other ($B=A^{-1}$), i.e.\n",
    "\n",
    "  \\begin{equation}\n",
    "    AB = BA = I,\n",
    "  \\end{equation}\n",
    "  \n",
    "  where $I$ is the identity matrix."
   ]
  },
  {
   "cell_type": "markdown",
   "metadata": {},
   "source": [
    "## Basis functions\n",
    "\n",
    "* The rows of $A$ ($a_{k,*}$) are refered to as the basis vectors of the transform, and form an *orthonormal* basis set. The rows can be also seen as the coefficients of $B$ filters, being the first one ($i=0$) the \"low-pass\" one, which will produce the DC coefficient, and the rest ($i\\geq 1$) the \"high-pass\" filters,  which will generate the AC (Alternating Current) coeffs. These $B$ filters form a filter-bank where the overlapping between the frequency response of the filters should be as small as possible if we want maximum energy compaction.\n",
    "\n",
    "* For orthonormal transforms, it holds that\n",
    "\n",
    "  \\begin{equation}\n",
    "    A^{-1} = A^T.\n",
    "  \\end{equation}\n",
    "\n",
    "  Therefore, the pair of transforms can be written as\n",
    "  \n",
    "  \\begin{equation}\n",
    "    \\begin{array}{l}\n",
    "      S=As \\\\\n",
    "      s=A^TS.\n",
    "    \\end{array}\n",
    "  \\end{equation}"
   ]
  },
  {
   "cell_type": "markdown",
   "metadata": {},
   "source": [
    "## Unitary transform\n",
    "\n",
    "* Orthonormal transforms are energy preserving and therefore, unitary:\n",
    "\n",
    "  \\begin{equation}\n",
    "    \\sum_{k=0}^{B-1} S[k]^2 = \\sum_{n=0}^{B-1}s[n]^2.\n",
    "  \\end{equation}\n",
    "  \n",
    "### Proof\n",
    "\n",
    "\\begin{equation}\n",
    "  \\sum_{k=0}^{B-1} S[k]^2 = S^TS = (As)^TAs = s^TA^TAs = s^TIs = s^Ts = \\sum_{n=0}^{B-1}s[n]^2.\n",
    "\\end{equation}"
   ]
  },
  {
   "cell_type": "markdown",
   "metadata": {},
   "source": [
    "## Coding gain\n",
    "\n",
    "* The coding gain measures the compaction level of the transform, which is defined as\n",
    "\n",
    "  \\begin{equation}\n",
    "    G=\\frac{\\frac{1}{B}\\displaystyle\\sum_{m=0}^{B-1}\\sigma_{S[k]}^2}{\\sqrt[B]{\\displaystyle\\prod_{m=0}^{B-1}\\sigma_{S[k]}^2}},\n",
    "  \\end{equation}\n",
    "  \n",
    "  where $\\sigma_{S[k]}^2$ is the variance of coeff $S[k]$."
   ]
  },
  {
   "cell_type": "markdown",
   "metadata": {},
   "source": [
    "## Karhunen-Loéve transform (KLT)\n",
    "\n",
    "* For the KLT, the rows of $A$ (the basis of the forward transform) are the eigenvectors of the autorrelation matrix $R$ of the signal $s$. The $(i,j)$-th element of $R$ is defined as:\n",
    "\n",
    "  \\begin{equation}\n",
    "    R_{i,j} = \\text{E}\\big(s[n]s[n+|i-j|]\\big).\n",
    "  \\end{equation}\n",
    "  \n",
    "* It can be proven that KLT minimizes $\\sqrt[B]{\\prod_{k=0}^{B-1}\\sigma_{S[k]}^2}$, and therefore, it provides the maximum coding gain. Unfortunately, the basis fuctions of the KLT depends on $s$ if it is non-[stationary](https://en.wikipedia.org/wiki/Stationary_process) and in this case, the autocorrelation matrix (or the basis) must be sent to the decoder (to run the inverse transform) as side information. However, if $B=2$, the KLT is\n",
    "\n",
    "  \\begin{equation}\n",
    "    A_{\\text{2-KLT}} = \\frac{1}{\\sqrt{2}}\n",
    "    \\left[\n",
    "      \\begin{array}{cc}\n",
    "        1 & 1 \\\\\n",
    "        1 & -1\n",
    "      \\end{array}\n",
    "    \\right]\n",
    "  \\end{equation}\n",
    "  \n",
    "  for all signals."
   ]
  },
  {
   "cell_type": "markdown",
   "metadata": {},
   "source": [
    "## Quantization in the transform domain\n",
    "\n",
    "* If the transform is orthogonal (orthonormal transforms are unitary orthogonal transforms), by definition coeffs $S[k]$ are uncorrelated. Therefore, a scalar quantizer can performs an optimal quantization."
   ]
  },
  {
   "cell_type": "markdown",
   "metadata": {},
   "source": [
    "## Bit allocation (bit-rate control)\n",
    "\n",
    "* In lossless coding, coeffs $S[k]$ are directly encoded using some text compression algorithm or a combination of them.\n",
    "\n",
    "* However, in most situations, a lossy compression is needed and in this case, a transform coder must determine, given a maximum number of bits $R^\\text{max}$ (which is defined by the compression ratio selected by the user), the number of bits $R_k$ used by the quantizer for each coeff $S[k]$."
   ]
  },
  {
   "cell_type": "markdown",
   "metadata": {},
   "source": [
    "## Bit allocation based on minimizing the quantization error\n",
    "\n",
    "* In unitary transforms, as a consequence of the energy preserving property, an uniform quantization (i.e. the dividing each coeff $S[k]$ by the same quantization step) should provide optimal bit allocation if we want to minimize the quantization error (the distortion) in the recostructed signal $s$."
   ]
  },
  {
   "cell_type": "markdown",
   "metadata": {},
   "source": [
    "## Bit allocation based on minimizing the variance of the quantization error.\n",
    "\n",
    "* Lets assume that the variance of the coeffs, defined as\n",
    "\n",
    "  \\begin{equation}\n",
    "    \\sigma_{S[k]}^2 = \\text{E}\\big( (S[k] - \\overline{S})^2\\big)\n",
    "   \\end{equation}\n",
    "   \n",
    "  corresponds to the amount of information provided by each coeff. Therefore, coeffs with high variance should be assigned more bits and viceversa.\n",
    "\n",
    "* Let\n",
    "\n",
    "  \\begin{equation}\n",
    "    R = \\frac{1}{B}\\sum_{k=0}^{B-1}R_k\n",
    "  \\end{equation}\n",
    "  \n",
    "  the average number of bits/coeff, where $R_k$ is the number of bits assigned to coeff $S[k]$.\n",
    "  \n",
    "* The variance of the distortion generated by the quantization of coeff $S[k]$ using $R_k$ bits can be modeled by\n",
    "\n",
    "  \\begin{equation}\n",
    "    \\sigma_{\\tilde{S}[k]}^2=\\alpha2^{-2R_k}\\sigma_{S[k]}^2,\n",
    "  \\end{equation}\n",
    "  \n",
    "  where $\\alpha$ depends on the coeffs and the quantizer. "
   ]
  },
  {
   "cell_type": "code",
   "execution_count": 9,
   "metadata": {},
   "outputs": [
    {
     "data": {
      "text/plain": [
       "<matplotlib.legend.Legend at 0x7f74b0fbf0f0>"
      ]
     },
     "execution_count": 9,
     "metadata": {},
     "output_type": "execute_result"
    },
    {
     "data": {
      "image/png": "[encoded data removed]",
      "text/plain": [
       "<matplotlib.figure.Figure at 0x7f74b0fe8470>"
      ]
     },
     "metadata": {},
     "output_type": "display_data"
    }
   ],
   "source": [
    "%matplotlib inline\n",
    "\n",
    "import matplotlib\n",
    "import numpy as np\n",
    "import matplotlib.pyplot as plt\n",
    "\n",
    "x = np.linspace(0, 5, 500)\n",
    "plt.plot(x, 2**(-2*x), label=r'$2^{-2x}$')\n",
    "plt.title('A model of a R-D curve')\n",
    "plt.xlabel('Rate (R)')\n",
    "plt.ylabel('Distortion (D)')\n",
    "plt.legend()"
   ]
  },
  {
   "cell_type": "markdown",
   "metadata": {},
   "source": [
    "* So, the total distortion variance is given by:\n",
    "\n",
    "  \\begin{equation}\n",
    "    \\sigma_{\\tilde{S}}^2 = \\sum_{k=0}^{B-1} \\sigma_{\\tilde{S}[k]}^2 = \\sum_{k=0}^{B-1}\\alpha 2^{-2R_k}\\sigma_{S[k]}^2\n",
    "  \\end{equation}.\n",
    "  \n",
    "* The objective of the bit-allocation process is to find $\\{R_k\\}_{k=0}^{B-1}$ so that minimize $\\sigma_{\\tilde{S}}^2$ subject to constraint $R$. This optimization problem can be solved with Lagrange multipliers [[]]().\n",
    "\n",
    "  \\begin{equation}\n",
    "    J = \\alpha \\sum_{k=0}^{B-1} 2^{-2R_k}\\sigma_{S[k]}^2 - \\lambda \\Big( R - \\frac{1}{B}\\sum_{k=0}^{B-1}R_k \\Big)\n",
    "  \\end{equation}\n",
    "  \n",
    "* Taking\n",
    "\n",
    "  \\begin{equation}\n",
    "    \\frac{\\text{d}J}{\\text{d}R_k} = 0\n",
    "  \\end{equation}\n",
    "  \n",
    "  we have that\n",
    "  \n",
    "  \\begin{equation}\n",
    "    R_k = \\frac{1}{2}\\log_2\\big( 2\\alpha\\ln 2\\sigma_{S[k]}^2 \\big) - \\frac{1}{2}\\log_2\\lambda.\n",
    "    \\tag{$R_k(\\lambda)$}\n",
    "  \\end{equation}\n",
    "  \n",
    "* Substituting $R_k$ in $R$, we get\n",
    "\n",
    "  \\begin{equation}\n",
    "    R = \\frac{1}{B}\\sum_{k=0}^{B-1}\\frac{1}{2}\\log_2\\big( 2\\alpha\\ln 2\\sigma_{S[k]}^2 \\big) - \\frac{1}{2}\\log_2\\lambda.\n",
    "  \\end{equation}\n",
    "  \n",
    "* Operating\n",
    "\n",
    "  \\begin{equation}\n",
    "    \\lambda = \\prod_{k=0}^{B-1}\\sqrt[B]{2\\alpha\\ln 2\\sigma_{S[k]}^2} - 2^{-2R}.\n",
    "  \\end{equation}\n",
    "  \n",
    "* Substituting this Eq. in Eq. $R_k(\\lambda)$, we obtain the optimal bit-allocation for each coeff\n",
    "\n",
    "  \\begin{equation}\n",
    "    R_k = R + \\frac{1}{2}\\log_2\\frac{\\sigma_{S[k]}^2}{\\displaystyle\\prod_{k=0}^{B-1}\\sqrt[B]{\\sigma_{S[k]}^2}}.\n",
    "  \\end{equation}"
   ]
  },
  {
   "cell_type": "markdown",
   "metadata": {},
   "source": [
    "## Encoding\n",
    "\n",
    "* Usually ZigZag-RLE followed by 0-order entropy coding."
   ]
  }
 ],
 "metadata": {
  "kernelspec": {
   "display_name": "Python 3",
   "language": "python",
   "name": "python3"
  },
  "language_info": {
   "codemirror_mode": {
    "name": "ipython",
    "version": 3
   },
   "file_extension": ".py",
   "mimetype": "text/x-python",
   "name": "python",
   "nbconvert_exporter": "python",
   "pygments_lexer": "ipython3",
   "version": "3.6.3"
  }
 },
 "nbformat": 4,
 "nbformat_minor": 2
}
