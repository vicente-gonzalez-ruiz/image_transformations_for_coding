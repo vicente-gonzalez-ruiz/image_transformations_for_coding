{
 "cells": [
  {
   "cell_type": "markdown",
   "metadata": {},
   "source": [
    "# Transform Coding"
   ]
  },
  {
   "cell_type": "markdown",
   "metadata": {},
   "source": [
    "* Signals can be represented at least in two different domains: the signal domain (for example, time in the case of sound of space in the case of image) and the frequency domain.\n",
    "* Transform coding is based on the idea that, in the frequency domain, most of the energy of the signal can be compacted in a small number of transform coefficients, which can be interesting for increasing the coding efficiency."
   ]
  },
  {
   "cell_type": "markdown",
   "metadata": {},
   "source": [
    "## Encoder\n",
    "\n",
    "1. Split $s$ into blocks of $B$ samples.\n",
    "2. Transform each block.\n",
    "3. Performs a bit-allocation procedure over the coefficientes.\n",
    "4. Encode the quantized coefficients."
   ]
  },
  {
   "cell_type": "markdown",
   "metadata": {},
   "source": [
    "## Decoder\n",
    "\n",
    "1. Decode the coefficients of each block\n",
    "2. \"Dequantize\" the coefficients of each block.\n",
    "3. Inverse transform each block."
   ]
  },
  {
   "cell_type": "markdown",
   "metadata": {},
   "source": [
    "## Splitting\n",
    "\n",
    "1. Divide $s=\\{s[n]\\}_{n=0}^{N-1}$ into blocks of $B$ samples."
   ]
  },
  {
   "cell_type": "markdown",
   "metadata": {},
   "source": [
    "## Transform\n",
    "\n",
    "* In the forward transform the samples of the block are correlated with (compared to) a set of basis functions:\n",
    "\n",
    "  \\begin{equation}\n",
    "    \\{S[m]\\}_{m=0}^{B-1} = \\sum_{m=0}^{B-1}a_{m,n}s[n]\n",
    "  \\end{equation}\n",
    "\n",
    "* The backward (inverse) transform restores the original samples:\n",
    "\n",
    "  \\begin{equation}\n",
    "    \\{s[n]\\}_{n=0}^{B-1} = \\sum_{n=0}^{B-1}b_{n,m}S[m]\n",
    "  \\end{equation}\n",
    "  \n",
    "* These equations can be written in matrix form as:\n",
    "  \n",
    "  \\begin{equation}\n",
    "    S=As\n",
    "    \\tag{forward_transform_matrix_form}\n",
    "  \\end{equation}\n",
    "  \n",
    "  \\begin{equation}\n",
    "    s=BS\n",
    "    \\tag{inverse_transform_matrix_form}\n",
    "  \\end{equation}\n",
    "  \n",
    "  where $A$ and $B$ are matrices, being:\n",
    "  \n",
    "  \\begin{equation}\n",
    "    [A]_{i,j} = a_{i,j}; [B]_{i,j} = a_{i,j}\n",
    "  \\end{equation}\n",
    "  \n",
    "* By definition, $A$ and $B$ are inverses of each other ($B=A^{-1}$), i.e.:\n",
    "\n",
    "  \\begin{equation}\n",
    "    AB = BA = I\n",
    "  \\end{equation}\n",
    "  \n",
    "  where $I$ is the identity matrix."
   ]
  },
  {
   "cell_type": "markdown",
   "metadata": {},
   "source": [
    "## Basis functions\n",
    "\n",
    "* The rows of $A$ ($a_{i,*}$) are refered to as the basis vectors of the transform, and form an *orthonormal* basis set. The rows can be also seen as the coefficients of $B$ filters, being the first one ($i=0$) the \"low-pass\" one, which will produce the DC coefficient, and the rest ($i\\geq 1$) the \"high-pass\" filters,  which will generate the AC (Alternating Current) coeffs. These $B$ filters form a filter-bank where the overlapping between the frequency response of the filters should be as small as possible if we want maximum energy compaction.\n",
    "\n",
    "* For orthonormal transforms,\n",
    "\n",
    "  \\begin{equation}\n",
    "    A^{-1} = A^T.\n",
    "  \\end{equation}\n",
    "\n",
    "  Therefore, the pair of transforms can be written as:\n",
    "  \n",
    "  \\begin{equation}\n",
    "    S=As; s=A^TS.\n",
    "  \\end{equation}"
   ]
  },
  {
   "cell_type": "markdown",
   "metadata": {},
   "source": [
    "## Unitary transform\n",
    "\n",
    "* Orthonormal transforms are energy preserving and therefore, unitary:\n",
    "\n",
    "  \\begin{equation}\n",
    "    \\sum_{m=0}^{B-1} S[m]^2 = \\sum_{n=0}^{B-1}s[n]^2.\n",
    "  \\end{equation}\n",
    "  \n",
    "### Proof\n",
    "\n",
    "\\begin{equation}\n",
    "  \\sum_{m=0}^{B-1} S[m]^2 = S^TS = (As)^TAs = s^TA^TAs = s^TIs = s^Ts = \\sum_{n=0}^{B-1}s[n]^2.\n",
    "\\end{equation}"
   ]
  },
  {
   "cell_type": "markdown",
   "metadata": {},
   "source": [
    "## Coding gain\n",
    "\n",
    "* The coding gain measures the compactation level of the transform and is defined as:\n",
    "\n",
    "  \\begin{equation}\n",
    "    G=\\frac{\\frac{1}{B}\\displaystyle\\sum_{m=0}^{B-1}\\sigma_m^2}{\\sqrt[B]{\\displaystyle\\prod_{m=0}^{B-1}\\sigma_m^2}}\n",
    "  \\end{equation}\n",
    "  \n",
    "  where $\\sigma_m^2$ is the variance of coeff $S[m]$."
   ]
  },
  {
   "cell_type": "markdown",
   "metadata": {},
   "source": [
    "## Karhunen-Loéve transform (KLT)\n",
    "\n",
    "* For the KLT, the rowd of $A$ (the basis of the forward transform) are the eigenvectors of the autorrelation matrix $R$ of the signal $s$. The $(i,j)$-th element of $R$ is defined as:\n",
    "\n",
    "  \\begin{equation}\n",
    "    R_{i,j} = \\text{E}\\big(s[n]s[n+|i-j|]\\big).\n",
    "  \\end{equation}\n",
    "  \n",
    "* It can be proven that KLT minimizes $\\sqrt[B]{\\displaystyle\\prod_{m=0}^{B-1}\\sigma_m^2}$, and therefore, it provides the maximum coding gain. Unfortunately, the basis fuctions of the KLT depends on $s$ if it is non-stationary and in this case, the autocorrelation matrix (or the basis) must be sent to the decoder (which runs the inverse transform) as side information. However, if $B=2$, the KLT is fixed:\n",
    "\n",
    "  \\begin{equation}\n",
    "    A_{\\text{2-KLT}} = \\frac{1}{\\sqrt{2}}\n",
    "    \\left[\n",
    "      \\begin{array}{cc}\n",
    "        1 & 1 \\\\\n",
    "        1 & -1\n",
    "      \\end{array}\n",
    "    \\right]\n",
    "  \\end{equation}"
   ]
  },
  {
   "cell_type": "markdown",
   "metadata": {},
   "source": [
    "## Bit allocation (quantization)\n",
    "\n",
    "* In unitary transforms, as a consequence of the enery preserving property, uniform quantization provides optimal bit allocation (the amount of distortion introduced by quantization is the minimal possible considering the achieved bit-rate reduction). However, this does not allow to control the bit-rate.\n",
    "\n",
    "* Lets assume that the relative variance of the coeffs corresponds to the amount of information provided by each coeff. Therefore, coeffs with high variance should be assigned more bits and viceversa.\n",
    "\n",
    "* Let\n",
    "\n",
    "  \\begin{equation}\n",
    "    R = \\frac{1}{B}\\sum_{k=0}^{B-1}R_k\n",
    "  \\end{equation}\n",
    "  \n",
    "  the average number of bits/coeff, where $R_k$ os the number of bits assigned to coeff $S[k]$."
   ]
  },
  {
   "cell_type": "markdown",
   "metadata": {},
   "source": [
    "* It can be shown that we can get the maximum amount\n",
    "of compaction if we use a transform that decorrelates the input sequence; that is, the sample-\n",
    "to-sample correlation of the transformed sequence is zero. \n",
    "\n",
    "* Usually lossy.\n",
    "* If lossless, base (lossy) layer (a thumbnail sketch, potentially progressive) with the output of the transform encoder + enhacement (lossless) layer with the residue.\n",
    "* Usually orthonormal transform.\n",
    "\n",
    "* Most audio compression algorithms typically segment\n",
    "the input signal into blocks of 2ms up to 50ms\n",
    "duration. A time-frequency analysis then decomposes\n",
    "each analysis block in the encoder. This\n",
    "transformation or subband filtering scheme compacts\n",
    "the energy into a few transform coefficients and\n",
    "therefore de-correlates successive samples. These\n",
    "coefficients, subband samples or parameters are\n",
    "quantized and encoded according to perceptual\n",
    "criteria. Depending on the system objectives, the\n",
    "time-frequency analysis section might contain:\n",
    "  + Unitary transform (MDCT, FFT)\n",
    "  + Polyphase filterbank with uniform bandpass filters\n",
    "  + Time-varying, critically sampled bank of nonuniform bandpass filters\n",
    "  + Hybrid transform/filterbank scheme\n",
    "  + Harmonic/sinusoidal signal analyzer\n",
    "  + Source system analysis (LPC)\n",
    "  \n",
    "\n",
    " \n",
    "* The time-frequency analysis approach always\n",
    "involves a fundamental tradeoff between time and\n",
    "frequency resolution requirements. The choice of the\n",
    "time-frequency analysis method additionally\n",
    "determines the amount of coding delay introduced, a \n",
    "parameter which may become important in duplex\n",
    "broadcast and live-events applications.\n",
    "\n",
    "http://www.atc-labs.com/acepages/crcchapter.pdf"
   ]
  },
  {
   "cell_type": "code",
   "execution_count": null,
   "metadata": {},
   "outputs": [],
   "source": [
    "The use of the cosine transform is motivated by the well known \n",
    "energy compactation energy, which permits a good reconstruction\n",
    "from only a few quantized values of the cosine transform"
   ]
  }
 ],
 "metadata": {
  "kernelspec": {
   "display_name": "Python 3",
   "language": "python",
   "name": "python3"
  },
  "language_info": {
   "codemirror_mode": {
    "name": "ipython",
    "version": 3
   },
   "file_extension": ".py",
   "mimetype": "text/x-python",
   "name": "python",
   "nbconvert_exporter": "python",
   "pygments_lexer": "ipython3",
   "version": "3.6.3"
  }
 },
 "nbformat": 4,
 "nbformat_minor": 2
}
